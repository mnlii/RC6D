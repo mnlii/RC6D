{
 "metadata": {
  "language_info": {
   "codemirror_mode": {
    "name": "ipython",
    "version": 3
   },
   "file_extension": ".py",
   "mimetype": "text/x-python",
   "name": "python",
   "nbconvert_exporter": "python",
   "pygments_lexer": "ipython3",
   "version": "3.8.3"
  },
  "orig_nbformat": 2,
  "kernelspec": {
   "name": "python383jvsc74a57bd09e35cb35fbe14a08ebefa72e01c312f6fb0d98c0ffcd935227e51f757ad933fe",
   "display_name": "Python 3.8.3 64-bit ('base': conda)"
  }
 },
 "nbformat": 4,
 "nbformat_minor": 2,
 "cells": [
  {
   "cell_type": "code",
   "execution_count": 1,
   "metadata": {},
   "outputs": [],
   "source": [
    "import cv2\n",
    "import matplotlib.pyplot as plt\n",
    "import numpy as np\n",
    "import tensorflow as tf\n",
    "import keras\n",
    "from keras.layers import Conv2D, Dense, LeakyReLU, Dropout, Input\n",
    "from keras.layers import Reshape, Conv2DTranspose, Flatten\n",
    "from keras.layers import BatchNormalization\n",
    "from keras.models import Model\n",
    "from keras import optimizers\n",
    "import warnings\n",
    "import os\n",
    "import pandas as pd\n",
    "from keras.preprocessing import image\n",
    "from keras.callbacks import ModelCheckpoint, LearningRateScheduler"
   ]
  },
  {
   "cell_type": "code",
   "execution_count": 2,
   "metadata": {},
   "outputs": [],
   "source": [
    "x_train=[]\n",
    "x_label=[]\n",
    "for i in range(6):\n",
    "    if(i==0):\n",
    "        continue\n",
    "    filename=os.listdir(\"./zkx/simulate/\"+str(i)+\"/\")\n",
    "    for j in filename:\n",
    "        df =  pd.read_csv(\"./zkx/simulate/\"+str(i)+\"/\"+j,header=None)\n",
    "        txt = df[0].tolist()\n",
    "        while(len(txt)<400):\n",
    "            txt.append(0)\n",
    "        x_label.append(i-1)\n",
    "        x_train.append(txt)"
   ]
  },
  {
   "cell_type": "code",
   "execution_count": 3,
   "metadata": {},
   "outputs": [
    {
     "output_type": "stream",
     "name": "stdout",
     "text": [
      "250\n250\n"
     ]
    }
   ],
   "source": [
    "print(len(x_train))\n",
    "print(len(x_label))"
   ]
  },
  {
   "cell_type": "code",
   "execution_count": 4,
   "metadata": {},
   "outputs": [],
   "source": [
    "y_train=[]\n",
    "y_label=[]\n",
    "for i in range(6):\n",
    "    if(i==0):\n",
    "        continue\n",
    "    filename=os.listdir(\"./zkx/sound/\"+str(i)+\"/\")\n",
    "    for j in filename:\n",
    "        df =  pd.read_csv(\"./zkx/sound/\"+str(i)+\"/\"+j,header=None)\n",
    "        txt = df[0].tolist()\n",
    "        while(len(txt)<400):\n",
    "            txt.append(0)\n",
    "        y_label.append(i-1)\n",
    "        y_train.append(txt)"
   ]
  },
  {
   "cell_type": "code",
   "execution_count": 5,
   "metadata": {},
   "outputs": [
    {
     "output_type": "stream",
     "name": "stdout",
     "text": [
      "64\n64\n"
     ]
    }
   ],
   "source": [
    "print(len(y_train))\n",
    "print(len(y_label))"
   ]
  },
  {
   "cell_type": "code",
   "execution_count": 6,
   "metadata": {},
   "outputs": [
    {
     "output_type": "stream",
     "name": "stdout",
     "text": [
      "(250, 400, 1)\n(250, 5)\n(64, 400, 1)\n(64, 5)\n(250, 1, 400)\n(64, 1, 400)\n"
     ]
    }
   ],
   "source": [
    "x_label=keras.utils.to_categorical(x_label)\n",
    "y_label=keras.utils.to_categorical(y_label)\n",
    "y_train=np.array(y_train)\n",
    "y_label=np.array(y_label)\n",
    "x_train=np.array(x_train)\n",
    "x_label=np.array(x_label)\n",
    "x_train=np.expand_dims(x_train,axis=2)\n",
    "y_train=np.expand_dims(y_train,axis=2)\n",
    "print(x_train.shape)\n",
    "print(x_label.shape)\n",
    "print(y_train.shape)\n",
    "print(y_label.shape)\n",
    "x_train=x_train.reshape(250,1,400)\n",
    "y_train=y_train.reshape(64,1,400)\n",
    "print(x_train.shape)\n",
    "print(y_train.shape)"
   ]
  },
  {
   "cell_type": "code",
   "execution_count": 7,
   "metadata": {},
   "outputs": [
    {
     "output_type": "stream",
     "name": "stdout",
     "text": [
      "Model: \"model\"\n__________________________________________________________________________________________________\nLayer (type)                    Output Shape         Param #     Connected to                     \n==================================================================================================\ninput_1 (InputLayer)            [(None, 1, 400)]     0                                            \n__________________________________________________________________________________________________\ndense (Dense)                   (None, 1, 200)       80200       input_1[0][0]                    \n__________________________________________________________________________________________________\nmulti_head_attention (MultiHead (None, 1, 200)       7427        dense[0][0]                      \n                                                                 dense[0][0]                      \n__________________________________________________________________________________________________\nflatten (Flatten)               (None, 200)          0           multi_head_attention[0][0]       \n__________________________________________________________________________________________________\ndense_1 (Dense)                 (None, 128)          25728       flatten[0][0]                    \n__________________________________________________________________________________________________\nleaky_re_lu (LeakyReLU)         (None, 128)          0           dense_1[0][0]                    \n__________________________________________________________________________________________________\ndropout (Dropout)               (None, 128)          0           leaky_re_lu[0][0]                \n__________________________________________________________________________________________________\ndense_2 (Dense)                 (None, 64)           8256        dropout[0][0]                    \n__________________________________________________________________________________________________\nleaky_re_lu_1 (LeakyReLU)       (None, 64)           0           dense_2[0][0]                    \n__________________________________________________________________________________________________\ndropout_1 (Dropout)             (None, 64)           0           leaky_re_lu_1[0][0]              \n__________________________________________________________________________________________________\ndense_3 (Dense)                 (None, 32)           2080        dropout_1[0][0]                  \n__________________________________________________________________________________________________\nleaky_re_lu_2 (LeakyReLU)       (None, 32)           0           dense_3[0][0]                    \n__________________________________________________________________________________________________\ndropout_2 (Dropout)             (None, 32)           0           leaky_re_lu_2[0][0]              \n__________________________________________________________________________________________________\ndense_4 (Dense)                 (None, 5)            165         dropout_2[0][0]                  \n==================================================================================================\nTotal params: 123,856\nTrainable params: 123,856\nNon-trainable params: 0\n__________________________________________________________________________________________________\n"
     ]
    }
   ],
   "source": [
    "inputB = Input(shape=(1,400))\n",
    "x=Dense(200,activation='relu')(inputB)\n",
    "x=keras.layers.MultiHeadAttention(num_heads=3, key_dim=3,value_dim=None)(x,x)\n",
    "x=Flatten()(x)\n",
    "x=Dense(128)(x)\n",
    "x=LeakyReLU()(x)\n",
    "x=Dropout(0.5)(x)\n",
    "x=Dense(64)(x)\n",
    "x=LeakyReLU()(x)\n",
    "x=Dropout(0.5)(x)\n",
    "x=Dense(32)(x)\n",
    "x=LeakyReLU()(x)\n",
    "x=Dropout(0.5)(x)\n",
    "x=Dense(5,activation='softmax')(x)\n",
    "model=Model(inputB,x)\n",
    "model.compile(loss='categorical_crossentropy', optimizer='adam', metrics=['acc'])\n",
    "model.summary()"
   ]
  },
  {
   "cell_type": "code",
   "execution_count": 10,
   "metadata": {},
   "outputs": [
    {
     "output_type": "stream",
     "name": "stdout",
     "text": [
      "Epoch 1/10\n",
      "8/8 [==============================] - 0s 15ms/step - loss: 2.9571 - acc: 0.8880 - val_loss: 1.9224 - val_acc: 0.1875\n",
      "Epoch 2/10\n",
      "8/8 [==============================] - 0s 11ms/step - loss: 1.4047 - acc: 0.8880 - val_loss: 1.9472 - val_acc: 0.1875\n",
      "Epoch 3/10\n",
      "8/8 [==============================] - 0s 9ms/step - loss: 2.8799 - acc: 0.8720 - val_loss: 1.9689 - val_acc: 0.1875\n",
      "Epoch 4/10\n",
      "8/8 [==============================] - 0s 10ms/step - loss: 0.9674 - acc: 0.9560 - val_loss: 1.9620 - val_acc: 0.1875\n",
      "Epoch 5/10\n",
      "8/8 [==============================] - 0s 9ms/step - loss: 1.6977 - acc: 0.9120 - val_loss: 1.9036 - val_acc: 0.1875\n",
      "Epoch 6/10\n",
      "8/8 [==============================] - 0s 10ms/step - loss: 2.0579 - acc: 0.8960 - val_loss: 1.9629 - val_acc: 0.1875\n",
      "Epoch 7/10\n",
      "8/8 [==============================] - 0s 9ms/step - loss: 2.2083 - acc: 0.9000 - val_loss: 1.9823 - val_acc: 0.1875\n",
      "Epoch 8/10\n",
      "8/8 [==============================] - 0s 10ms/step - loss: 1.2576 - acc: 0.9280 - val_loss: 1.9962 - val_acc: 0.1875\n",
      "Epoch 9/10\n",
      "8/8 [==============================] - 0s 9ms/step - loss: 1.4341 - acc: 0.9040 - val_loss: 2.0649 - val_acc: 0.1875\n",
      "Epoch 10/10\n",
      "8/8 [==============================] - 0s 9ms/step - loss: 1.5832 - acc: 0.9200 - val_loss: 2.0662 - val_acc: 0.1875\n"
     ]
    }
   ],
   "source": [
    "filepath = \"./zkx/best_weights.h5\"\n",
    "checkpoint = ModelCheckpoint(filepath, monitor='val_acc', verbose=0, save_best_only=True, mode='max')\n",
    "callbacks_list = [checkpoint]\n",
    "history = model.fit(x_train,x_label,epochs = 10, shuffle=True,verbose = 1,validation_data=(y_train,y_label),callbacks = callbacks_list)\n",
    "model.save(\"./zkx/final.h5\")"
   ]
  },
  {
   "cell_type": "code",
   "execution_count": null,
   "metadata": {},
   "outputs": [],
   "source": []
  }
 ]
}